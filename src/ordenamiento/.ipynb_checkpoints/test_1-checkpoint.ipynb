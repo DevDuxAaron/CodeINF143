{
 "cells": [
  {
   "cell_type": "code",
   "execution_count": 1,
   "metadata": {},
   "outputs": [
    {
     "name": "stdout",
     "output_type": "stream",
     "text": [
      "hello world\n"
     ]
    }
   ],
   "source": [
    "import numpy as np\n",
    "import matplotlib.pyplot as plt\n",
    "import sympy as sp"
   ]
  },
  {
   "cell_type": "markdown",
   "metadata": {},
   "source": [
    "$\\frac{1}{2}$"
   ]
  },
  {
   "cell_type": "code",
   "execution_count": 2,
   "metadata": {},
   "outputs": [
    {
     "name": "stdout",
     "output_type": "stream",
     "text": [
      "Hit me with your best shot\n"
     ]
    }
   ],
   "source": [
    "a, v, r = sp.symbols('a,v,r', real=True)\n",
    "m, t, b, g, vo = sp.symbols('m,t,v,g,vo', positive=True)\n",
    "a = g - (b*v/m)\n",
    "i = 1 / (g - (b*v/m))\n",
    "i1 = sp.integrate(i, (v, vo, v))"
   ]
  },
  {
   "cell_type": "code",
   "execution_count": null,
   "metadata": {},
   "outputs": [],
   "source": [
    "a, v, r = sp.symbols('a,v,r', real=True)\n",
    "m, t, b, g, vo = sp.symbols('m,t,v,g,vo', positive=True)\n",
    "a = g - (b*v/m)\n",
    "i = 1 / (g - (b*v/m))\n",
    "i1 = sp.integrate(i, (v, vo, v))"
   ]
  }
 ],
 "metadata": {
  "kernelspec": {
   "display_name": "Python 3",
   "language": "python",
   "name": "python3"
  },
  "language_info": {
   "codemirror_mode": {
    "name": "ipython",
    "version": 3
   },
   "file_extension": ".py",
   "mimetype": "text/x-python",
   "name": "python",
   "nbconvert_exporter": "python",
   "pygments_lexer": "ipython3",
   "version": "3.8.3"
  }
 },
 "nbformat": 4,
 "nbformat_minor": 4
}
